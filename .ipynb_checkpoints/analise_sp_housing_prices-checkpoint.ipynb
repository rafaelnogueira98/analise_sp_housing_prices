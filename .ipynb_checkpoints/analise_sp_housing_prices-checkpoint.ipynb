{
 "cells": [
  {
   "cell_type": "markdown",
   "id": "1caa185b",
   "metadata": {},
   "source": [
    "# Introdução"
   ]
  },
  {
   "cell_type": "markdown",
   "id": "7c3a21b2",
   "metadata": {},
   "source": [
    "Nesse estudo, nossa meta é mergulhar fundo nas relações que existem entre as caracteristicas fisicas de um imóvel, como metragem e número de cômodos, com seu preço e localização. A ideia é entender, principalmente, o que está por trás dos preços dos imóveis de São paulo, uma das metrópoles mais agitadas e desafiadoras do Brasil. Os dados aqui analisados foram baixados na plataforma do Kaggle, bastante popular por suas competições de machine learning, e foram originadas de uma raspagem no site do Quinto Andar, em março de 2023.\n",
    "\n",
    "A análise aqui apresentada discute as variáveis citadas acima e explora o quanto, e como, eleas influenciam tanto no preço de aluguel quanto o preço total de um imóvel, com encargos adicionais(não especificados no Kaggle). Buscaremos entender, por exemplo, como a localização de um imóvel em determinado bairro pode impactar no seu preço de aluguel. Além disso, investigaremos a relevância de outras caracteristicas fisicas do imóvel, como o tamanho em metros quadrados, a quantidade de banheiros e quartos, entre outros, na determinação do seu valor total de venda ou aluguel. Também vamos identificar os bairros mais baratos e mais caros da cidade.\n",
    "\n",
    "Este estudo foi feito apenas com o intuito de aprendizado, já que não sabemos se o dataset está enviesado de qualquer forma, com algum tipo de lacuna ou mesmo erros, já que não temos nenhum processo de validação.\n",
    "\n",
    "Então seja bem-vindo à nossa jornada explóratoria pelo mercado imobiliario de São Paulo.\n",
    "\n",
    "Link para o dataset: https://www.kaggle.com/datasets/renatosn/sao-paulo-housing-prices\n",
    "\n",
    "Definição das colunas da tabela:\n",
    " - Endereço: O endereço do imóvel\n",
    " - Bairro: O bairro onde o imóvel está localizado\n",
    " - Área: Área do imóvel em metros quadrados\n",
    " - Quartos: O número de quartos no imóvel\n",
    " - Garagem: O número de vagas de estacionamento disponíveis no imóvel\n",
    " - Aluguel: O aluguel mensal do imóvel\n",
    " - Tipo: O tipo do imóvel(apartamento, casa, etc.) \n",
    " - Total: O custo do imóvel, incluindo aluguel, impostos e outras taxas."
   ]
  },
  {
   "cell_type": "markdown",
   "id": "44ba439b",
   "metadata": {},
   "source": [
    "# Importando bibliotecas"
   ]
  },
  {
   "cell_type": "code",
   "execution_count": 10,
   "id": "bafe1be0",
   "metadata": {
    "scrolled": true
   },
   "outputs": [],
   "source": [
    "# Bibliotecas para tratar dados\n",
    "import pandas as pd\n",
    "import numpy as np\n",
    "\n",
    "# Bibliotecas para EDA\n",
    "import matplotlib.pyplot as plt\n",
    "import seaborn as sns\n",
    "import plotly.express as px\n",
    "import plotly.graph_objects as go\n",
    "\n",
    "# Configurar para não exibir warnings\n",
    "import warnings\n",
    "warnings.filterwarnings(\"ignore\")\n",
    "\n",
    "# Configurar o estilo de gráfico do ggplot\n",
    "plt.style.use(\"ggplot\")\n",
    "\n",
    "# Configurar para exbir até 15 linhas de um dataframe do pandas\n",
    "pd.set_option(\"display.max_rows\", 15)\n",
    "\n",
    "# Configurar para exibir todas as colunas de um dataframe do pandas\n",
    "pd.set_option(\"display.max_columns\", None)\n",
    "\n",
    "# Configurar quebras de espaçamento automáticas com nb_black\n",
    "# %load_ext nb_black"
   ]
  },
  {
   "cell_type": "markdown",
   "id": "0e3f729f",
   "metadata": {},
   "source": [
    "# Carregando dataset"
   ]
  },
  {
   "cell_type": "code",
   "execution_count": 5,
   "id": "3551e327",
   "metadata": {},
   "outputs": [
    {
     "data": {
      "text/html": [
       "<div>\n",
       "<style scoped>\n",
       "    .dataframe tbody tr th:only-of-type {\n",
       "        vertical-align: middle;\n",
       "    }\n",
       "\n",
       "    .dataframe tbody tr th {\n",
       "        vertical-align: top;\n",
       "    }\n",
       "\n",
       "    .dataframe thead th {\n",
       "        text-align: right;\n",
       "    }\n",
       "</style>\n",
       "<table border=\"1\" class=\"dataframe\">\n",
       "  <thead>\n",
       "    <tr style=\"text-align: right;\">\n",
       "      <th></th>\n",
       "      <th>address</th>\n",
       "      <th>district</th>\n",
       "      <th>area</th>\n",
       "      <th>bedrooms</th>\n",
       "      <th>garage</th>\n",
       "      <th>type</th>\n",
       "      <th>rent</th>\n",
       "      <th>total</th>\n",
       "    </tr>\n",
       "  </thead>\n",
       "  <tbody>\n",
       "    <tr>\n",
       "      <th>0</th>\n",
       "      <td>Rua Herval</td>\n",
       "      <td>Belenzinho</td>\n",
       "      <td>21</td>\n",
       "      <td>1</td>\n",
       "      <td>0</td>\n",
       "      <td>Studio e kitnet</td>\n",
       "      <td>2400</td>\n",
       "      <td>2939</td>\n",
       "    </tr>\n",
       "    <tr>\n",
       "      <th>1</th>\n",
       "      <td>Avenida São Miguel</td>\n",
       "      <td>Vila Marieta</td>\n",
       "      <td>15</td>\n",
       "      <td>1</td>\n",
       "      <td>1</td>\n",
       "      <td>Studio e kitnet</td>\n",
       "      <td>1030</td>\n",
       "      <td>1345</td>\n",
       "    </tr>\n",
       "    <tr>\n",
       "      <th>2</th>\n",
       "      <td>Rua Oscar Freire</td>\n",
       "      <td>Pinheiros</td>\n",
       "      <td>18</td>\n",
       "      <td>1</td>\n",
       "      <td>0</td>\n",
       "      <td>Apartamento</td>\n",
       "      <td>4000</td>\n",
       "      <td>4661</td>\n",
       "    </tr>\n",
       "    <tr>\n",
       "      <th>3</th>\n",
       "      <td>Rua Júlio Sayago</td>\n",
       "      <td>Vila Ré</td>\n",
       "      <td>56</td>\n",
       "      <td>2</td>\n",
       "      <td>2</td>\n",
       "      <td>Casa em condomínio</td>\n",
       "      <td>1750</td>\n",
       "      <td>1954</td>\n",
       "    </tr>\n",
       "    <tr>\n",
       "      <th>4</th>\n",
       "      <td>Rua Barata Ribeiro</td>\n",
       "      <td>Bela Vista</td>\n",
       "      <td>19</td>\n",
       "      <td>1</td>\n",
       "      <td>0</td>\n",
       "      <td>Studio e kitnet</td>\n",
       "      <td>4000</td>\n",
       "      <td>4654</td>\n",
       "    </tr>\n",
       "  </tbody>\n",
       "</table>\n",
       "</div>"
      ],
      "text/plain": [
       "              address      district  area  bedrooms  garage  \\\n",
       "0          Rua Herval    Belenzinho    21         1       0   \n",
       "1  Avenida São Miguel  Vila Marieta    15         1       1   \n",
       "2    Rua Oscar Freire     Pinheiros    18         1       0   \n",
       "3    Rua Júlio Sayago       Vila Ré    56         2       2   \n",
       "4  Rua Barata Ribeiro    Bela Vista    19         1       0   \n",
       "\n",
       "                 type  rent  total  \n",
       "0     Studio e kitnet  2400   2939  \n",
       "1     Studio e kitnet  1030   1345  \n",
       "2         Apartamento  4000   4661  \n",
       "3  Casa em condomínio  1750   1954  \n",
       "4     Studio e kitnet  4000   4654  "
      ]
     },
     "execution_count": 5,
     "metadata": {},
     "output_type": "execute_result"
    }
   ],
   "source": [
    "aptos = pd.read_csv(\"data/data.csv\")\n",
    "aptos.head()"
   ]
  },
  {
   "cell_type": "code",
   "execution_count": null,
   "id": "02837e81",
   "metadata": {},
   "outputs": [],
   "source": []
  }
 ],
 "metadata": {
  "kernelspec": {
   "display_name": "Python 3 (ipykernel)",
   "language": "python",
   "name": "python3"
  },
  "language_info": {
   "codemirror_mode": {
    "name": "ipython",
    "version": 3
   },
   "file_extension": ".py",
   "mimetype": "text/x-python",
   "name": "python",
   "nbconvert_exporter": "python",
   "pygments_lexer": "ipython3",
   "version": "3.11.5"
  }
 },
 "nbformat": 4,
 "nbformat_minor": 5
}
